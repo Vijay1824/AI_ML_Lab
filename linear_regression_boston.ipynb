{
 "cells": [
  {
   "cell_type": "code",
   "execution_count": 15,
   "id": "3bffdcc7-c7b6-4349-8fcd-d86918b4b346",
   "metadata": {},
   "outputs": [
    {
     "name": "stdout",
     "output_type": "stream",
     "text": [
      "Coefficients:  [ 4.36693293e-01  9.43577803e-03 -1.07322041e-01  6.45065694e-01\n",
      " -3.97638942e-06 -3.78654265e-03 -4.21314378e-01 -4.34513755e-01]\n",
      "Intercept:  -36.94192020718445\n"
     ]
    }
   ],
   "source": [
    "from sklearn.linear_model import LinearRegression\n",
    "from sklearn.datasets import fetch_california_housing\n",
    "\n",
    "# Load California Housing dataset\n",
    "housing = fetch_california_housing()\n",
    "X = housing.data  # Features\n",
    "y = housing.target  # Target\n",
    "\n",
    "# Create the model and fit it\n",
    "model = LinearRegression()\n",
    "model.fit(X, y)\n",
    "\n",
    "# Display the coefficients and intercept\n",
    "print(\"Coefficients: \", model.coef_)\n",
    "print(\"Intercept: \", model.intercept_)\n"
   ]
  },
  {
   "cell_type": "code",
   "execution_count": 17,
   "id": "ef63c47a-235f-4c2c-b96f-bfdcc90581a5",
   "metadata": {},
   "outputs": [
    {
     "name": "stdout",
     "output_type": "stream",
     "text": [
      "Coefficients:  [ 4.36693293e-01  9.43577803e-03 -1.07322041e-01  6.45065694e-01\n",
      " -3.97638942e-06 -3.78654265e-03 -4.21314378e-01 -4.34513755e-01]\n",
      "Intercept:  -36.94192020718445\n"
     ]
    }
   ],
   "source": [
    "from sklearn.linear_model import LinearRegression\n",
    "from sklearn.datasets import fetch_california_housing\n",
    "\n",
    "# Load California Housing dataset\n",
    "housing = fetch_california_housing()\n",
    "X = housing.data  # Features\n",
    "y = housing.target  # Target\n",
    "\n",
    "# Create the model and fit it\n",
    "model = LinearRegression()\n",
    "model.fit(X, y)\n",
    "\n",
    "# Display the coefficients and intercept\n",
    "print(\"Coefficients: \", model.coef_)\n",
    "print(\"Intercept: \", model.intercept_)\n"
   ]
  },
  {
   "cell_type": "code",
   "execution_count": 19,
   "id": "dfc177a2-b4b9-4240-b9a0-d44a6555d3bd",
   "metadata": {},
   "outputs": [
    {
     "name": "stdout",
     "output_type": "stream",
     "text": [
      "Predicted pressure for new_temperature = 40: -20.346752589362225\n"
     ]
    }
   ],
   "source": [
    "import numpy as np\n",
    "\n",
    "# Coefficients and intercept from your model\n",
    "intercept = -36.94192020718445\n",
    "coefficients = np.array([4.36693293e-01, 9.43577803e-03, -1.07322041e-01, 6.45065694e-01,\n",
    "                         -3.97638942e-06, -3.78654265e-03, -4.21314378e-01, -4.34513755e-01])\n",
    "\n",
    "# New data point (new_temperature = 40 and arbitrary values for other features)\n",
    "new_temperature = 40\n",
    "other_features = np.array([5.1, 2.5, 3.0, 0.4, 1.5, 5.2, 0.9])  # Replace with actual feature values\n",
    "\n",
    "# Create a data point with temperature and the other feature values\n",
    "new_data_point = np.insert(other_features, 0, new_temperature)  # Insert temperature as the first feature\n",
    "\n",
    "# Compute the predicted pressure using the formula\n",
    "predicted_pressure = intercept + np.dot(coefficients, new_data_point)\n",
    "\n",
    "print(f\"Predicted pressure for new_temperature = 40: {predicted_pressure}\")\n"
   ]
  },
  {
   "cell_type": "code",
   "execution_count": 23,
   "id": "cd0735e7-aa68-4698-8515-79bcbb65ee02",
   "metadata": {},
   "outputs": [
    {
     "name": "stdout",
     "output_type": "stream",
     "text": [
      "MSE: 0.5243209861846072\n",
      "RMSE: 0.7241001216576387\n",
      "MAE: 0.5311643817546464\n",
      "Relative MSE: 0.39376731480019495\n",
      "Cross-Validation Scores (Negative MSE): [-0.48485857 -0.62249739 -0.64621047 -0.5431996  -0.49468484]\n",
      "Mean CV Score: -0.5582901717686807\n"
     ]
    }
   ],
   "source": [
    "import numpy as np\n",
    "from sklearn.datasets import fetch_california_housing\n",
    "from sklearn.linear_model import LinearRegression\n",
    "from sklearn.model_selection import cross_val_score\n",
    "from sklearn.metrics import mean_squared_error, mean_absolute_error\n",
    "\n",
    "# Load California Housing dataset\n",
    "housing = fetch_california_housing()\n",
    "X = housing.data\n",
    "y = housing.target\n",
    "\n",
    "# Train Linear Regression model\n",
    "model = LinearRegression()\n",
    "model.fit(X, y)\n",
    "\n",
    "# Predict\n",
    "y_pred = model.predict(X)\n",
    "\n",
    "# Evaluation Metrics\n",
    "mse = mean_squared_error(y, y_pred)\n",
    "rmse = np.sqrt(mse)\n",
    "mae = mean_absolute_error(y, y_pred)\n",
    "rel_mse = mse / np.var(y)\n",
    "\n",
    "# Cross-Validation\n",
    "cv_scores = cross_val_score(model, X, y, scoring='neg_mean_squared_error', cv=5)\n",
    "mean_cv_score = np.mean(cv_scores)\n",
    "\n",
    "# Display all\n",
    "print(\"MSE:\", mse)\n",
    "print(\"RMSE:\", rmse)\n",
    "print(\"MAE:\", mae)\n",
    "print(\"Relative MSE:\", rel_mse)\n",
    "print(\"Cross-Validation Scores (Negative MSE):\", cv_scores)\n",
    "print(\"Mean CV Score:\", mean_cv_score)\n"
   ]
  }
 ],
 "metadata": {
  "kernelspec": {
   "display_name": "Python 3 (ipykernel)",
   "language": "python",
   "name": "python3"
  },
  "language_info": {
   "codemirror_mode": {
    "name": "ipython",
    "version": 3
   },
   "file_extension": ".py",
   "mimetype": "text/x-python",
   "name": "python",
   "nbconvert_exporter": "python",
   "pygments_lexer": "ipython3",
   "version": "3.12.4"
  }
 },
 "nbformat": 4,
 "nbformat_minor": 5
}
