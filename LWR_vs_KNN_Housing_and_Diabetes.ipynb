{
 "cells": [
  {
   "cell_type": "code",
   "execution_count": 1,
   "id": "f5491458-0474-447f-9565-4e1f817565a7",
   "metadata": {},
   "outputs": [],
   "source": [
    "import pandas as pd\n",
    "import numpy as np\n",
    "from sklearn.model_selection import train_test_split\n",
    "from sklearn.neighbors import KNeighborsRegressor\n",
    "from sklearn.metrics import mean_squared_error\n",
    "from sklearn.datasets import load_diabetes\n"
   ]
  },
  {
   "cell_type": "code",
   "execution_count": 3,
   "id": "da51d4dc-64c8-4279-85a1-620fa2051740",
   "metadata": {},
   "outputs": [
    {
     "data": {
      "text/html": [
       "<div>\n",
       "<style scoped>\n",
       "    .dataframe tbody tr th:only-of-type {\n",
       "        vertical-align: middle;\n",
       "    }\n",
       "\n",
       "    .dataframe tbody tr th {\n",
       "        vertical-align: top;\n",
       "    }\n",
       "\n",
       "    .dataframe thead th {\n",
       "        text-align: right;\n",
       "    }\n",
       "</style>\n",
       "<table border=\"1\" class=\"dataframe\">\n",
       "  <thead>\n",
       "    <tr style=\"text-align: right;\">\n",
       "      <th></th>\n",
       "      <th>longitude</th>\n",
       "      <th>latitude</th>\n",
       "      <th>housing_median_age</th>\n",
       "      <th>total_rooms</th>\n",
       "      <th>total_bedrooms</th>\n",
       "      <th>population</th>\n",
       "      <th>households</th>\n",
       "      <th>median_income</th>\n",
       "      <th>median_house_value</th>\n",
       "      <th>ocean_proximity</th>\n",
       "    </tr>\n",
       "  </thead>\n",
       "  <tbody>\n",
       "    <tr>\n",
       "      <th>0</th>\n",
       "      <td>-122.23</td>\n",
       "      <td>37.88</td>\n",
       "      <td>41.0</td>\n",
       "      <td>880.0</td>\n",
       "      <td>129.0</td>\n",
       "      <td>322.0</td>\n",
       "      <td>126.0</td>\n",
       "      <td>8.3252</td>\n",
       "      <td>452600.0</td>\n",
       "      <td>NEAR BAY</td>\n",
       "    </tr>\n",
       "    <tr>\n",
       "      <th>1</th>\n",
       "      <td>-122.22</td>\n",
       "      <td>37.86</td>\n",
       "      <td>21.0</td>\n",
       "      <td>7099.0</td>\n",
       "      <td>1106.0</td>\n",
       "      <td>2401.0</td>\n",
       "      <td>1138.0</td>\n",
       "      <td>8.3014</td>\n",
       "      <td>358500.0</td>\n",
       "      <td>NEAR BAY</td>\n",
       "    </tr>\n",
       "    <tr>\n",
       "      <th>2</th>\n",
       "      <td>-122.24</td>\n",
       "      <td>37.85</td>\n",
       "      <td>52.0</td>\n",
       "      <td>1467.0</td>\n",
       "      <td>190.0</td>\n",
       "      <td>496.0</td>\n",
       "      <td>177.0</td>\n",
       "      <td>7.2574</td>\n",
       "      <td>352100.0</td>\n",
       "      <td>NEAR BAY</td>\n",
       "    </tr>\n",
       "    <tr>\n",
       "      <th>3</th>\n",
       "      <td>-122.25</td>\n",
       "      <td>37.85</td>\n",
       "      <td>52.0</td>\n",
       "      <td>1274.0</td>\n",
       "      <td>235.0</td>\n",
       "      <td>558.0</td>\n",
       "      <td>219.0</td>\n",
       "      <td>5.6431</td>\n",
       "      <td>341300.0</td>\n",
       "      <td>NEAR BAY</td>\n",
       "    </tr>\n",
       "    <tr>\n",
       "      <th>4</th>\n",
       "      <td>-122.25</td>\n",
       "      <td>37.85</td>\n",
       "      <td>52.0</td>\n",
       "      <td>1627.0</td>\n",
       "      <td>280.0</td>\n",
       "      <td>565.0</td>\n",
       "      <td>259.0</td>\n",
       "      <td>3.8462</td>\n",
       "      <td>342200.0</td>\n",
       "      <td>NEAR BAY</td>\n",
       "    </tr>\n",
       "  </tbody>\n",
       "</table>\n",
       "</div>"
      ],
      "text/plain": [
       "   longitude  latitude  housing_median_age  total_rooms  total_bedrooms  \\\n",
       "0    -122.23     37.88                41.0        880.0           129.0   \n",
       "1    -122.22     37.86                21.0       7099.0          1106.0   \n",
       "2    -122.24     37.85                52.0       1467.0           190.0   \n",
       "3    -122.25     37.85                52.0       1274.0           235.0   \n",
       "4    -122.25     37.85                52.0       1627.0           280.0   \n",
       "\n",
       "   population  households  median_income  median_house_value ocean_proximity  \n",
       "0       322.0       126.0         8.3252            452600.0        NEAR BAY  \n",
       "1      2401.0      1138.0         8.3014            358500.0        NEAR BAY  \n",
       "2       496.0       177.0         7.2574            352100.0        NEAR BAY  \n",
       "3       558.0       219.0         5.6431            341300.0        NEAR BAY  \n",
       "4       565.0       259.0         3.8462            342200.0        NEAR BAY  "
      ]
     },
     "execution_count": 3,
     "metadata": {},
     "output_type": "execute_result"
    }
   ],
   "source": [
    "housing_df = pd.read_csv('housing.csv')\n",
    "housing_df.head()\n"
   ]
  },
  {
   "cell_type": "code",
   "execution_count": 5,
   "id": "69465fad-3e5f-4254-ab57-5fcb14999433",
   "metadata": {},
   "outputs": [
    {
     "name": "stdout",
     "output_type": "stream",
     "text": [
      "Housing Dataset - KNN Regression MSE: 4386370000.0\n"
     ]
    }
   ],
   "source": [
    "from sklearn.model_selection import train_test_split\n",
    "from sklearn.neighbors import KNeighborsRegressor\n",
    "from sklearn.metrics import mean_squared_error\n",
    "\n",
    "# Select features and target\n",
    "features = ['median_income', 'total_rooms', 'housing_median_age']\n",
    "X = housing_df[features]\n",
    "y = housing_df['median_house_value']\n",
    "\n",
    "# Split data\n",
    "X_train, X_test, y_train, y_test = train_test_split(X, y, test_size=0.2, random_state=42)\n",
    "\n",
    "# KNN Model\n",
    "knn = KNeighborsRegressor(n_neighbors=5)\n",
    "knn.fit(X_train, y_train)\n",
    "\n",
    "# Predictions\n",
    "knn_preds = knn.predict(X_test)\n",
    "\n",
    "# Evaluation\n",
    "knn_mse = mean_squared_error(y_test, knn_preds)\n",
    "print(\"Housing Dataset - KNN Regression MSE:\", knn_mse)\n"
   ]
  },
  {
   "cell_type": "code",
   "execution_count": 7,
   "id": "8a5f560b-6bca-4032-b2f4-f1dbc60155c3",
   "metadata": {},
   "outputs": [
    {
     "name": "stdout",
     "output_type": "stream",
     "text": [
      "Housing Dataset - LWR MSE: 89957570000.0\n"
     ]
    }
   ],
   "source": [
    "import numpy as np\n",
    "\n",
    "def local_weight(x, X_train, tau):\n",
    "    m = X_train.shape[0]\n",
    "    weights = np.exp(-np.sum((X_train - x)**2, axis=1) / (2 * tau**2))\n",
    "    return np.diag(weights)\n",
    "\n",
    "def predict_lwr(X_train, y_train, X_test, tau):\n",
    "    m = X_test.shape[0]\n",
    "    y_pred = np.zeros(m)\n",
    "    \n",
    "    for i in range(m):\n",
    "        W = local_weight(X_test[i], X_train, tau)\n",
    "        XTWX = X_train.T @ W @ X_train\n",
    "        XTWy = X_train.T @ W @ y_train\n",
    "        theta = np.linalg.pinv(XTWX) @ XTWy\n",
    "        y_pred[i] = X_test[i] @ theta\n",
    "    return y_pred\n",
    "\n",
    "# Add bias term\n",
    "X_train_lwr = np.c_[np.ones(X_train.shape[0]), X_train]\n",
    "X_test_lwr = np.c_[np.ones(X_test.shape[0]), X_test]\n",
    "y_train_lwr = np.array(y_train)\n",
    "\n",
    "# Run LWR\n",
    "tau = 0.5\n",
    "y_pred_lwr = predict_lwr(X_train_lwr, y_train_lwr, X_test_lwr, tau)\n",
    "lwr_mse = mean_squared_error(y_test, y_pred_lwr)\n",
    "print(\"Housing Dataset - LWR MSE:\", lwr_mse)\n"
   ]
  },
  {
   "cell_type": "code",
   "execution_count": 9,
   "id": "e291d032-03f2-46e5-a9c5-b0b4c7a81507",
   "metadata": {},
   "outputs": [
    {
     "name": "stdout",
     "output_type": "stream",
     "text": [
      "Diabetes Dataset - KNN MSE: 4119.697078651685\n",
      "Diabetes Dataset - LWR MSE: 3727.6179640483197\n"
     ]
    }
   ],
   "source": [
    "from sklearn.datasets import load_diabetes\n",
    "\n",
    "# Load dataset\n",
    "diabetes = load_diabetes()\n",
    "X_d = pd.DataFrame(diabetes.data, columns=diabetes.feature_names)\n",
    "y_d = diabetes.target\n",
    "\n",
    "# Use 3 features for fair comparison\n",
    "features_d = ['bmi', 'bp', 's1']\n",
    "X_d = X_d[features_d]\n",
    "\n",
    "# Split\n",
    "X_train_d, X_test_d, y_train_d, y_test_d = train_test_split(X_d, y_d, test_size=0.2, random_state=42)\n",
    "\n",
    "# KNN\n",
    "knn_d = KNeighborsRegressor(n_neighbors=5)\n",
    "knn_d.fit(X_train_d, y_train_d)\n",
    "knn_preds_d = knn_d.predict(X_test_d)\n",
    "knn_mse_d = mean_squared_error(y_test_d, knn_preds_d)\n",
    "print(\"Diabetes Dataset - KNN MSE:\", knn_mse_d)\n",
    "\n",
    "# LWR\n",
    "X_train_lwr_d = np.c_[np.ones(X_train_d.shape[0]), X_train_d]\n",
    "X_test_lwr_d = np.c_[np.ones(X_test_d.shape[0]), X_test_d]\n",
    "y_train_lwr_d = np.array(y_train_d)\n",
    "\n",
    "y_pred_lwr_d = predict_lwr(X_train_lwr_d, y_train_lwr_d, X_test_lwr_d, tau=0.5)\n",
    "lwr_mse_d = mean_squared_error(y_test_d, y_pred_lwr_d)\n",
    "print(\"Diabetes Dataset - LWR MSE:\", lwr_mse_d)\n"
   ]
  },
  {
   "cell_type": "code",
   "execution_count": 11,
   "id": "d8300aa5-a730-49a9-b13a-58a01407e1be",
   "metadata": {},
   "outputs": [
    {
     "name": "stdout",
     "output_type": "stream",
     "text": [
      "\n",
      "--- Final MSE Comparison ---\n",
      "Housing - KNN: 4386370000.0\n",
      "Housing - LWR: 89957570000.0\n",
      "Diabetes - KNN: 4119.697078651685\n",
      "Diabetes - LWR: 3727.6179640483197\n"
     ]
    }
   ],
   "source": [
    "print(\"\\n--- Final MSE Comparison ---\")\n",
    "print(\"Housing - KNN:\", knn_mse)\n",
    "print(\"Housing - LWR:\", lwr_mse)\n",
    "print(\"Diabetes - KNN:\", knn_mse_d)\n",
    "print(\"Diabetes - LWR:\", lwr_mse_d)\n"
   ]
  },
  {
   "cell_type": "code",
   "execution_count": null,
   "id": "42344da9-b3e4-479d-a031-13b55724007b",
   "metadata": {},
   "outputs": [],
   "source": []
  }
 ],
 "metadata": {
  "kernelspec": {
   "display_name": "Python 3 (ipykernel)",
   "language": "python",
   "name": "python3"
  },
  "language_info": {
   "codemirror_mode": {
    "name": "ipython",
    "version": 3
   },
   "file_extension": ".py",
   "mimetype": "text/x-python",
   "name": "python",
   "nbconvert_exporter": "python",
   "pygments_lexer": "ipython3",
   "version": "3.12.4"
  }
 },
 "nbformat": 4,
 "nbformat_minor": 5
}
